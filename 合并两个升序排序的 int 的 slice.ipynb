{
 "cells": [
  {
   "cell_type": "code",
   "execution_count": 1,
   "metadata": {},
   "outputs": [
    {
     "name": "stdout",
     "output_type": "stream",
     "text": [
      "lis1: 134\n",
      "lis2: 1125\n",
      "[1, 1, 1, 2, 3, 4, 5]\n"
     ]
    }
   ],
   "source": [
    "lis1 = input('lis1: ')\n",
    "lis2 = input('lis2: ')\n",
    "\n",
    "lis1 = list(lis1)\n",
    "lis1 = list(map(lambda x: int(x), lis1))\n",
    "\n",
    "lis2 = list(lis2)\n",
    "lis2 = list(map(lambda x: int(x), lis2))\n",
    "\n",
    "lis = lis1 + lis2\n",
    "lis.sort()\n",
    "\n",
    "print(lis)"
   ]
  }
 ],
 "metadata": {
  "kernelspec": {
   "display_name": "Python 3",
   "language": "python",
   "name": "python3"
  },
  "language_info": {
   "codemirror_mode": {
    "name": "ipython",
    "version": 3
   },
   "file_extension": ".py",
   "mimetype": "text/x-python",
   "name": "python",
   "nbconvert_exporter": "python",
   "pygments_lexer": "ipython3",
   "version": "3.6.4"
  }
 },
 "nbformat": 4,
 "nbformat_minor": 2
}
