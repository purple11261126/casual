{
 "cells": [
  {
   "cell_type": "markdown",
   "metadata": {},
   "source": [
    "# Numpy 基础"
   ]
  },
  {
   "cell_type": "code",
   "execution_count": 1,
   "metadata": {},
   "outputs": [],
   "source": [
    "import numpy as np"
   ]
  },
  {
   "cell_type": "markdown",
   "metadata": {},
   "source": [
    "## 1、创建 Array"
   ]
  },
  {
   "cell_type": "code",
   "execution_count": 2,
   "metadata": {},
   "outputs": [
    {
     "name": "stdout",
     "output_type": "stream",
     "text": [
      "列表： [1, 2, 3]\n",
      "Array： [1 2 3]\n"
     ]
    }
   ],
   "source": [
    "lis = [1, 2, 3]\n",
    "a = np.array(lis)\n",
    "\n",
    "print('列表：', lis)\n",
    "print('Array：',a)"
   ]
  },
  {
   "cell_type": "code",
   "execution_count": 4,
   "metadata": {},
   "outputs": [
    {
     "name": "stdout",
     "output_type": "stream",
     "text": [
      "[[1 2 3]\n",
      " [4 5 6]]\n",
      "shape： (2, 3)\n"
     ]
    }
   ],
   "source": [
    "a = np.array([[1, 2, 3], [4, 5, 6]])\n",
    "\n",
    "print(a)\n",
    "print('shape：', a.shape)  # 形状"
   ]
  },
  {
   "cell_type": "code",
   "execution_count": 9,
   "metadata": {},
   "outputs": [
    {
     "name": "stdout",
     "output_type": "stream",
     "text": [
      "[ 0  2  4  6  8 10 12 14 16 18 20 22 24 26 28]\n"
     ]
    }
   ],
   "source": [
    "# np.arrange 创建 Array\n",
    "a = np.arange(0, 30, 2)\n",
    "print(a)"
   ]
  },
  {
   "cell_type": "code",
   "execution_count": 10,
   "metadata": {},
   "outputs": [
    {
     "name": "stdout",
     "output_type": "stream",
     "text": [
      "[[ 0  2  4  6  8]\n",
      " [10 12 14 16 18]\n",
      " [20 22 24 26 28]]\n"
     ]
    }
   ],
   "source": [
    "# 重塑\n",
    "a = a.reshape(3, 5)\n",
    "print(a)"
   ]
  },
  {
   "cell_type": "code",
   "execution_count": 12,
   "metadata": {},
   "outputs": [
    {
     "name": "stdout",
     "output_type": "stream",
     "text": [
      "ones:\n",
      " [[1. 1.]\n",
      " [1. 1.]\n",
      " [1. 1.]]\n",
      "\n",
      "zeros:\n",
      " [[0. 0.]\n",
      " [0. 0.]\n",
      " [0. 0.]]\n",
      "\n",
      "eye:\n",
      " [[1. 0. 0.]\n",
      " [0. 1. 0.]\n",
      " [0. 0. 1.]]\n",
      "\n",
      "diag:\n",
      " [[1 0 0]\n",
      " [0 2 0]\n",
      " [0 0 3]]\n"
     ]
    }
   ],
   "source": [
    "# 各种 array\n",
    "print('ones:\\n', np.ones((3, 2)))\n",
    "print()\n",
    "print('zeros:\\n', np.zeros((3, 2)))\n",
    "print()\n",
    "print('eye:\\n', np.eye(3))\n",
    "print()\n",
    "print('diag:\\n', np.diag([1, 2, 3]))"
   ]
  },
  {
   "cell_type": "code",
   "execution_count": 13,
   "metadata": {},
   "outputs": [
    {
     "name": "stdout",
     "output_type": "stream",
     "text": [
      "[1 2 3 1 2 3 1 2 3]\n",
      "\n",
      "[1 1 1 2 2 2 3 3 3]\n"
     ]
    }
   ],
   "source": [
    "# Array 操作\n",
    "print(np.array([1, 2, 3] * 3))\n",
    "print()\n",
    "print(np.repeat([1, 2, 3], 3))"
   ]
  },
  {
   "cell_type": "code",
   "execution_count": 16,
   "metadata": {},
   "outputs": [
    {
     "name": "stdout",
     "output_type": "stream",
     "text": [
      "纵向叠加：\n",
      " [[1. 1. 1.]\n",
      " [1. 1. 1.]\n",
      " [1. 1. 1.]\n",
      " [0. 1. 2.]\n",
      " [3. 4. 5.]\n",
      " [6. 7. 8.]]\n",
      "\n",
      "横向叠加：\n",
      " [[1. 1. 1. 0. 1. 2.]\n",
      " [1. 1. 1. 3. 4. 5.]\n",
      " [1. 1. 1. 6. 7. 8.]]\n"
     ]
    }
   ],
   "source": [
    "# 叠加\n",
    "a1 = np.ones((3, 3))\n",
    "a2 = np.arange(9).reshape(3, 3)\n",
    "\n",
    "print('纵向叠加：\\n', np.vstack((a1, a2)))\n",
    "print()\n",
    "print('横向叠加：\\n', np.hstack((a1, a2)))"
   ]
  },
  {
   "cell_type": "markdown",
   "metadata": {},
   "source": [
    "## 2、Array 操作"
   ]
  },
  {
   "cell_type": "code",
   "execution_count": 19,
   "metadata": {},
   "outputs": [
    {
     "name": "stdout",
     "output_type": "stream",
     "text": [
      "a1:  [[1. 1. 1.]\n",
      " [1. 1. 1.]\n",
      " [1. 1. 1.]]\n",
      "a2:  [[0 1 2]\n",
      " [3 4 5]\n",
      " [6 7 8]]\n",
      "\n",
      "a1 + a2:\n",
      " [[1. 2. 3.]\n",
      " [4. 5. 6.]\n",
      " [7. 8. 9.]]\n",
      "\n",
      "a1 - a2:\n",
      " [[ 1.  0. -1.]\n",
      " [-2. -3. -4.]\n",
      " [-5. -6. -7.]]\n",
      "\n",
      "a1 * a2:\n",
      " [[0. 1. 2.]\n",
      " [3. 4. 5.]\n",
      " [6. 7. 8.]]\n",
      "\n",
      "a2 ^ 2:\n",
      " [[ 0  1  4]\n",
      " [ 9 16 25]\n",
      " [36 49 64]]\n",
      "\n",
      "a1 . a2:\n",
      " [[ 9. 12. 15.]\n",
      " [ 9. 12. 15.]\n",
      " [ 9. 12. 15.]]\n"
     ]
    }
   ],
   "source": [
    "a1 = np.ones((3, 3))\n",
    "a2 = np.arange(9).reshape(3, 3)\n",
    "\n",
    "print('a1: ', a1)\n",
    "print('a2: ', a2)\n",
    "\n",
    "print()\n",
    "print('a1 + a2:\\n', a1 + a2)\n",
    "print()\n",
    "print('a1 - a2:\\n', a1 - a2)\n",
    "print()\n",
    "print('a1 * a2:\\n', a1 * a2)\n",
    "print()\n",
    "print('a2 ^ 2:\\n', a2 ** 2)\n",
    "print()\n",
    "print('a1 . a2:\\n', a1.dot(a2))"
   ]
  },
  {
   "cell_type": "code",
   "execution_count": 21,
   "metadata": {},
   "outputs": [
    {
     "name": "stdout",
     "output_type": "stream",
     "text": [
      "[[0 1 2 3 4]\n",
      " [5 6 7 8 9]]\n",
      "\n",
      "[[0 5]\n",
      " [1 6]\n",
      " [2 7]\n",
      " [3 8]\n",
      " [4 9]]\n"
     ]
    }
   ],
   "source": [
    "# 转置\n",
    "a = np.arange(10).reshape(2, 5)\n",
    "print(a)\n",
    "print()\n",
    "\n",
    "print(a.T)  # 转置"
   ]
  },
  {
   "cell_type": "code",
   "execution_count": 25,
   "metadata": {},
   "outputs": [
    {
     "name": "stdout",
     "output_type": "stream",
     "text": [
      "[[0 1 2 3 4]\n",
      " [5 6 7 8 9]]\n",
      "int32\n",
      "\n",
      "[[0. 1. 2. 3. 4.]\n",
      " [5. 6. 7. 8. 9.]]\n",
      "float64\n"
     ]
    }
   ],
   "source": [
    "# 改变数据类型\n",
    "a = np.arange(10).reshape(2, 5)\n",
    "print(a)\n",
    "print(a.dtype)\n",
    "print()\n",
    "\n",
    "a = a.astype('float')  # 改变数据类型\n",
    "print(a)\n",
    "print(a.dtype)"
   ]
  },
  {
   "cell_type": "code",
   "execution_count": 26,
   "metadata": {},
   "outputs": [
    {
     "name": "stdout",
     "output_type": "stream",
     "text": [
      "sum:  3\n",
      "min:  -4\n",
      "max:  5\n",
      "mean:  0.6\n",
      "std:  3.2619012860600183\n",
      "argmax:  4\n",
      "argmin:  0\n"
     ]
    }
   ],
   "source": [
    "# 各种统计\n",
    "a = np.array([-4, -2, 1, 3, 5])\n",
    "\n",
    "print('sum: ', a.sum())\n",
    "print('min: ', a.min())\n",
    "print('max: ', a.max())\n",
    "print('mean: ', a.mean())\n",
    "print('std: ', a.std())\n",
    "print('argmax: ', a.argmax())\n",
    "print('argmin: ', a.argmin())"
   ]
  },
  {
   "cell_type": "markdown",
   "metadata": {},
   "source": [
    "## 3、索引与切片"
   ]
  },
  {
   "cell_type": "code",
   "execution_count": 29,
   "metadata": {},
   "outputs": [
    {
     "name": "stdout",
     "output_type": "stream",
     "text": [
      "a:  [  0   1   4   9  16  25  36  49  64  81 100 121 144]\n",
      "a[0:5]:  [ 0  1  4  9 16]\n"
     ]
    }
   ],
   "source": [
    "# 一维 array\n",
    "a = np.arange(13) ** 2\n",
    "\n",
    "print('a: ', a)\n",
    "print('a[0:5]: ', a[0:5])"
   ]
  },
  {
   "cell_type": "code",
   "execution_count": 42,
   "metadata": {},
   "outputs": [
    {
     "name": "stdout",
     "output_type": "stream",
     "text": [
      "a:\n",
      " [[ 0  1  2  3  4  5]\n",
      " [ 6  7  8  9 10 11]\n",
      " [12 13 14 15 16 17]\n",
      " [18 19 20 21 22 23]\n",
      " [24 25 26 27 28 29]\n",
      " [30 31 32 33 34 35]]\n",
      "\n",
      "a[1, 1]:\n",
      " 7\n",
      "\n",
      "a[3, 2:5]:\n",
      " [20 21 22]\n"
     ]
    }
   ],
   "source": [
    "# 二维 array\n",
    "a = np.arange(36).reshape((6, 6))\n",
    "\n",
    "print('a:\\n', a)\n",
    "print()\n",
    "print('a[1, 1]:\\n', a[1, 1])\n",
    "print()\n",
    "print('a[3, 2:5]:\\n', a[3, 2:5])"
   ]
  },
  {
   "cell_type": "code",
   "execution_count": 43,
   "metadata": {},
   "outputs": [
    {
     "name": "stdout",
     "output_type": "stream",
     "text": [
      "[21 22 23 24 25 26 27 28 29 30 31 32 33 34 35]\n",
      "[[ 0  1  2  3  4  5]\n",
      " [ 6  7  8  9 10 11]\n",
      " [12 13 14 15 16 17]\n",
      " [18 19 20  0  0  0]\n",
      " [ 0  0  0  0  0  0]\n",
      " [ 0  0  0  0  0  0]]\n"
     ]
    }
   ],
   "source": [
    "# 过滤\n",
    "print(a[a > 20])\n",
    "\n",
    "# 过滤并赋值\n",
    "a[a > 20] = 0\n",
    "print(a)"
   ]
  },
  {
   "cell_type": "code",
   "execution_count": 44,
   "metadata": {},
   "outputs": [],
   "source": [
    "# copy() 操作，列表‘=’号赋值是地址传递，copy()才是值传递。\n",
    "a = np.arange(36).reshape((6, 6))\n",
    "a2 = a\n",
    "a3 = a.copy()"
   ]
  },
  {
   "cell_type": "markdown",
   "metadata": {},
   "source": [
    "## 4、遍历 Array"
   ]
  },
  {
   "cell_type": "code",
   "execution_count": 50,
   "metadata": {},
   "outputs": [
    {
     "name": "stdout",
     "output_type": "stream",
     "text": [
      "[[1 7 2]\n",
      " [8 5 3]\n",
      " [6 0 9]\n",
      " [0 4 3]]\n"
     ]
    }
   ],
   "source": [
    "a = np.random.randint(0, 10, (4, 3))\n",
    "print(a)"
   ]
  },
  {
   "cell_type": "code",
   "execution_count": 49,
   "metadata": {},
   "outputs": [
    {
     "name": "stdout",
     "output_type": "stream",
     "text": [
      "[7 6 5]\n",
      "[6 6 0]\n",
      "[3 9 9]\n",
      "[6 8 9]\n"
     ]
    }
   ],
   "source": [
    "for row in a:\n",
    "    print(row)"
   ]
  },
  {
   "cell_type": "code",
   "execution_count": 51,
   "metadata": {},
   "outputs": [
    {
     "name": "stdout",
     "output_type": "stream",
     "text": [
      "0 行：[1 7 2]\n",
      "1 行：[8 5 3]\n",
      "2 行：[6 0 9]\n",
      "3 行：[0 4 3]\n"
     ]
    }
   ],
   "source": [
    "# enumerate() 返回索引和元素\n",
    "for i, row in enumerate(a):\n",
    "    print('{} 行：{}'.format(i, row))\n",
    "    "
   ]
  },
  {
   "cell_type": "code",
   "execution_count": 53,
   "metadata": {},
   "outputs": [
    {
     "name": "stdout",
     "output_type": "stream",
     "text": [
      "[5 2 8] + [25  4 64] = [30  6 72]\n",
      "[5 7 4] + [25 49 16] = [30 56 20]\n",
      "[5 8 5] + [25 64 25] = [30 72 30]\n",
      "[0 7 6] + [ 0 49 36] = [ 0 56 42]\n"
     ]
    }
   ],
   "source": [
    "# zip() 对两个 array 进行遍历计算\n",
    "a = np.random.randint(0, 10, (4, 3))\n",
    "a2 = a ** 2\n",
    "\n",
    "for i, j in zip(a, a2):\n",
    "    print('{} + {} = {}'.format(i, j, i+j))"
   ]
  }
 ],
 "metadata": {
  "kernelspec": {
   "display_name": "Python 3",
   "language": "python",
   "name": "python3"
  },
  "language_info": {
   "codemirror_mode": {
    "name": "ipython",
    "version": 3
   },
   "file_extension": ".py",
   "mimetype": "text/x-python",
   "name": "python",
   "nbconvert_exporter": "python",
   "pygments_lexer": "ipython3",
   "version": "3.6.4"
  }
 },
 "nbformat": 4,
 "nbformat_minor": 2
}
