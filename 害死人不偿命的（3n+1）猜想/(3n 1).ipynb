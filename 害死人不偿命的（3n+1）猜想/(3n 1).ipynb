{
 "cells": [
  {
   "cell_type": "code",
   "execution_count": null,
   "metadata": {},
   "outputs": [],
   "source": [
    "i = int(input('输入：'))\n",
    "j = 0  # 计步器\n",
    "while i != 1:\n",
    "    if i % 2 == 0:  # 偶数\n",
    "        i = i / 2\n",
    "    elif i % 2 == 1:  # 奇数\n",
    "        i = (i * 3 + 1) / 2\n",
    "    j += 1\n",
    "print('需要：', j)"
   ]
  },
  {
   "cell_type": "code",
   "execution_count": null,
   "metadata": {},
   "outputs": [],
   "source": [
    "# 这个为什么运行就会卡住\n",
    "\n",
    "i = int(input('输入：'))\n",
    "j = 0  # 计步器\n",
    "\n",
    "if i % 2 == 0:  # 偶数\n",
    "    while i != 1:\n",
    "        i = i / 2\n",
    "        j += 1\n",
    "    print('need:', j)\n",
    "elif i % 2 == 1:  # 奇数\n",
    "    while i != 1:\n",
    "        i = (3 * i + 1) / 2\n",
    "        j +=1\n",
    "    print('need:', j)"
   ]
  }
 ],
 "metadata": {
  "kernelspec": {
   "display_name": "Python 3",
   "language": "python",
   "name": "python3"
  },
  "language_info": {
   "codemirror_mode": {
    "name": "ipython",
    "version": 3
   },
   "file_extension": ".py",
   "mimetype": "text/x-python",
   "name": "python",
   "nbconvert_exporter": "python",
   "pygments_lexer": "ipython3",
   "version": "3.6.3"
  }
 },
 "nbformat": 4,
 "nbformat_minor": 2
}
