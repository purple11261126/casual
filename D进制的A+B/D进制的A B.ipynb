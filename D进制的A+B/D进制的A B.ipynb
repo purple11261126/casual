{
 "cells": [
  {
   "cell_type": "code",
   "execution_count": 13,
   "metadata": {},
   "outputs": [
    {
     "name": "stdout",
     "output_type": "stream",
     "text": [
      "5 6 2\n",
      "[0, 1, 0, 1]\n"
     ]
    }
   ],
   "source": [
    "a, b, d = input().split()\n",
    "a = int(a)\n",
    "b = int(b)\n",
    "d = int(d)\n",
    "\n",
    "sum = a + b\n",
    "\n",
    "lis = []\n",
    "s = sum // d\n",
    "y = sum % d\n",
    "lis.append(y)\n",
    "if s == 0:\n",
    "    print(y)\n",
    "else:\n",
    "    while s != 0:\n",
    "        s = s // d\n",
    "        y = s % d\n",
    "        lis.append(y)\n",
    "print(lis[::-1])\n",
    "    \n",
    "\n",
    "\n",
    "# 01 10 11 100 101 110\n",
    "# 1  2  3  4   5   6\n"
   ]
  },
  {
   "cell_type": "code",
   "execution_count": 12,
   "metadata": {},
   "outputs": [
    {
     "data": {
      "text/plain": [
       "1"
      ]
     },
     "execution_count": 12,
     "metadata": {},
     "output_type": "execute_result"
    }
   ],
   "source": [
    "11%2"
   ]
  }
 ],
 "metadata": {
  "kernelspec": {
   "display_name": "Python 3",
   "language": "python",
   "name": "python3"
  },
  "language_info": {
   "codemirror_mode": {
    "name": "ipython",
    "version": 3
   },
   "file_extension": ".py",
   "mimetype": "text/x-python",
   "name": "python",
   "nbconvert_exporter": "python",
   "pygments_lexer": "ipython3",
   "version": "3.6.3"
  }
 },
 "nbformat": 4,
 "nbformat_minor": 2
}
