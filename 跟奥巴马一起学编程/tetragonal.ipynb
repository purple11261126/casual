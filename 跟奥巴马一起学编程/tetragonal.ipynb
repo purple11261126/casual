{
 "cells": [
  {
   "cell_type": "code",
   "execution_count": 43,
   "metadata": {},
   "outputs": [
    {
     "name": "stdout",
     "output_type": "stream",
     "text": [
      "正方形边长 N：9\n",
      "组成正方形的字符：a\n",
      "aaaaaaaaa\n",
      "a       a\n",
      "a       a\n",
      "a       a\n",
      "aaaaaaaaa\n"
     ]
    }
   ],
   "source": [
    "n = int(input('正方形边长 N：'))\n",
    "c = input('组成正方形的字符：')\n",
    "\n",
    "# 计算行数\n",
    "if n % 2 == 0:  # 偶数行\n",
    "    rows = n // 2  # // 整除，这里必须用整除保证 rows 为 int，如果用 / 为 float，则输出图形的 for 循环中 rows+1 会报类型不符合错误。\n",
    "else:  # 奇数行\n",
    "    rows = n // 2 + 1\n",
    "\n",
    "# 输出图形\n",
    "for row in range(1, rows+1):\n",
    "    if row == 1 or row == rows:  # 第一行和最后一行\n",
    "        print(n*c)\n",
    "    else: # 中间行\n",
    "        print(c, (n-2)*' ', c, sep='')  # sep 设置输出多个值时中间的隔开符号，默认为空格。\n",
    "        \n",
    "        # 也可以这样输出\n",
    "#         print(c, end='')  # end 设置输出值末尾添加的符号，end='' 代表不换行，Python2 中 print 语句之后加“，”代表不换行。\n",
    "#         print((n-2)*' ', end='')\n",
    "#         print(c)"
   ]
  },
  {
   "cell_type": "code",
   "execution_count": null,
   "metadata": {
    "scrolled": true
   },
   "outputs": [],
   "source": [
    "col, char = input().split()  # 接收两个变量\n",
    "col = int(col)  # 强制类型转换\n",
    "\n",
    "# 计算行数\n",
    "if col % 2 == 1:  # 奇数行\n",
    "    row = col // 2 + 1\n",
    "else:  # 偶数行\n",
    "    row = col // 2\n",
    "\n",
    "# 输出图形\n",
    "for i in range(0, col):\n",
    "    print(char, end='')\n",
    "print('')\n",
    "for i in range(2, row):\n",
    "    print(char, end='')\n",
    "    for j in range(0, col-2):\n",
    "        print(' ', end='')\n",
    "    print(char)\n",
    "for i in range(0, col):\n",
    "    print(char, end='')\n",
    "    "
   ]
  }
 ],
 "metadata": {
  "kernelspec": {
   "display_name": "Python 3",
   "language": "python",
   "name": "python3"
  },
  "language_info": {
   "codemirror_mode": {
    "name": "ipython",
    "version": 3
   },
   "file_extension": ".py",
   "mimetype": "text/x-python",
   "name": "python",
   "nbconvert_exporter": "python",
   "pygments_lexer": "ipython3",
   "version": "3.6.3"
  }
 },
 "nbformat": 4,
 "nbformat_minor": 2
}
